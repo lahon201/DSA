{
 "cells": [
  {
   "cell_type": "markdown",
   "metadata": {},
   "source": [
    "# BASIC SORTING ALGORITHMS\n",
    "### (1) SELECTION SORT\n",
    "- Time complexity : O(n<sup>2</sup>)\n",
    "- Unstable\n",
    "\n",
    "Note: \n",
    "- Stable sorting: Preserves the relative order of equal elements from the original input.\n",
    "- Unstable sorting: Does not guarantee the preservation of the relative order of equal elements from the original input."
   ]
  },
  {
   "cell_type": "code",
   "execution_count": 7,
   "metadata": {},
   "outputs": [],
   "source": [
    "def selectionSort(arr):\n",
    "    for i in range(len(arr)):\n",
    "        min = i\n",
    "        for j in range(i, len(arr)):\n",
    "            if arr[j] < arr[min]:\n",
    "                min = j\n",
    "        temp = arr[i]\n",
    "        arr[i] = arr[min]\n",
    "        arr[min] = temp\n",
    "    return arr"
   ]
  },
  {
   "cell_type": "code",
   "execution_count": 8,
   "metadata": {},
   "outputs": [
    {
     "data": {
      "text/plain": [
       "[1, 2, 7, 9, 20, 23, 42, 88, 400]"
      ]
     },
     "execution_count": 8,
     "metadata": {},
     "output_type": "execute_result"
    }
   ],
   "source": [
    "selectionSort([20, 1, 7, 2, 88, 42, 23, 400, 9])"
   ]
  },
  {
   "cell_type": "markdown",
   "metadata": {},
   "source": [
    "### (2) BUBBLE SORT\n",
    "- Time complexity : O(n<sup>2</sup>)\n",
    "- Stable"
   ]
  },
  {
   "cell_type": "code",
   "execution_count": 11,
   "metadata": {},
   "outputs": [],
   "source": [
    "def bubbleSort(arr):\n",
    "    for i in range(len(arr)):\n",
    "        swapped = False\n",
    "        for j in range(0, len(arr)-i-1):\n",
    "            if arr[j] > arr[j+1]:\n",
    "                temp = arr[j]\n",
    "                arr[j] = arr[j+1]\n",
    "                arr[j+1] = temp\n",
    "                swapped = True\n",
    "        if swapped == False:\n",
    "            break\n",
    "    return arr"
   ]
  },
  {
   "cell_type": "code",
   "execution_count": 12,
   "metadata": {},
   "outputs": [
    {
     "data": {
      "text/plain": [
       "[1, 2, 7, 9, 20, 23, 42, 88, 400]"
      ]
     },
     "execution_count": 12,
     "metadata": {},
     "output_type": "execute_result"
    }
   ],
   "source": [
    "bubbleSort([20, 1, 7, 2, 88, 42, 23, 400, 9])"
   ]
  },
  {
   "cell_type": "markdown",
   "metadata": {},
   "source": [
    "### (3) INSERTION SORT\n",
    "- Time complexity : O(n<sup>2</sup>)\n",
    "- Stable"
   ]
  },
  {
   "cell_type": "code",
   "execution_count": 16,
   "metadata": {},
   "outputs": [],
   "source": [
    "def insertionSort(arr):\n",
    "    for i in range(1, len(arr)):\n",
    "        key = arr[i]\n",
    "        j = i\n",
    "        while (j > 0) and (arr[j-1] > key):\n",
    "           arr[j] = arr[j-1]\n",
    "           j = j-1\n",
    "        arr[j] = key\n",
    "    return arr"
   ]
  },
  {
   "cell_type": "code",
   "execution_count": 17,
   "metadata": {},
   "outputs": [
    {
     "data": {
      "text/plain": [
       "[1, 2, 7, 9, 20, 23, 42, 88, 400]"
      ]
     },
     "execution_count": 17,
     "metadata": {},
     "output_type": "execute_result"
    }
   ],
   "source": [
    "insertionSort([20, 1, 7, 2, 88, 42, 23, 400, 9])"
   ]
  }
 ],
 "metadata": {
  "kernelspec": {
   "display_name": "base",
   "language": "python",
   "name": "python3"
  },
  "language_info": {
   "codemirror_mode": {
    "name": "ipython",
    "version": 3
   },
   "file_extension": ".py",
   "mimetype": "text/x-python",
   "name": "python",
   "nbconvert_exporter": "python",
   "pygments_lexer": "ipython3",
   "version": "3.11.7"
  }
 },
 "nbformat": 4,
 "nbformat_minor": 2
}
