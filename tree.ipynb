{
 "cells": [
  {
   "cell_type": "markdown",
   "metadata": {},
   "source": [
    "# TREE DATA STRUCTURE\n",
    "- Non-linear data structure in which a collection of elements known as nodes are connected to each other via edges such that there exists exactly one path between any two nodes.\n",
    "- Types :\n",
    "    - Binary tree\n",
    "    - Ternary tree\n",
    "    - N-ary or Generic tree\n",
    "\n",
    "### BINARY TREE\n",
    "- Each node has at most two children."
   ]
  },
  {
   "cell_type": "code",
   "execution_count": 2,
   "metadata": {},
   "outputs": [],
   "source": [
    "class TreeNode:\n",
    "    def __init__(self, value):\n",
    "        self.value = value\n",
    "        self.left = None\n",
    "        self.right = None"
   ]
  },
  {
   "cell_type": "code",
   "execution_count": 3,
   "metadata": {},
   "outputs": [],
   "source": [
    "myTree = TreeNode(1)\n",
    "myTree.left = TreeNode(2)\n",
    "myTree.right = TreeNode(3)\n",
    "myTree.left.left = TreeNode(4)\n",
    "myTree.left.right = TreeNode(5)\n",
    "myTree.right.left = TreeNode(6)\n",
    "myTree.right.right = TreeNode(7)\n",
    "myTree.right.right.left = TreeNode(8)\n",
    "myTree.right.right.right = TreeNode(9)"
   ]
  },
  {
   "cell_type": "code",
   "execution_count": 4,
   "metadata": {},
   "outputs": [
    {
     "name": "stdout",
     "output_type": "stream",
     "text": [
      "Root: 1\n",
      "    Left: 2\n",
      "        Left: 4\n",
      "        Right 5\n",
      "    Right 3\n",
      "        Left: 6\n",
      "        Right 7\n",
      "            Left: 8\n",
      "            Right 9\n"
     ]
    }
   ],
   "source": [
    "def print_tree(root, level=0, prefix=\"Root: \"):\n",
    "    if root is not None:\n",
    "        print(\" \" * (level * 4) + prefix + str(root.value))\n",
    "    else:\n",
    "        print(\"No root present here.\")\n",
    "        return\n",
    "    \n",
    "    if root.left:\n",
    "       print_tree(root.left, level + 1, \"Left: \")\n",
    "       \n",
    "    if root.right:\n",
    "        print_tree(root.right, level + 1, \"Right \")\n",
    "\n",
    "print_tree(myTree)"
   ]
  },
  {
   "cell_type": "markdown",
   "metadata": {},
   "source": [
    "#### TRAVERSAL OF BINARY TREE\n",
    "1) Depth First Search (DFS)\n",
    "    - Pre-order traversal\n",
    "    - In-order traversal\n",
    "    - Post-order traversal\n",
    "2) Breadth First Search (BFS)\n",
    "    - Level-order traversal\n",
    "\n",
    "##### DEPTH FIRST SEARCH (DFS)\n",
    "1) Pre-order traversal (root-left-right)\n",
    "    - Root node of subtree is visited first.\n",
    "    - Then left subtree  is traversed.\n",
    "    - Then right subtree."
   ]
  },
  {
   "cell_type": "code",
   "execution_count": 5,
   "metadata": {},
   "outputs": [
    {
     "name": "stdout",
     "output_type": "stream",
     "text": [
      "1 2 4 5 3 6 7 8 9 "
     ]
    }
   ],
   "source": [
    "# Root -> Left -> Right\n",
    "def printPreorderTraversal(root):\n",
    "    if root is None:\n",
    "        print(\"No root present here.\")\n",
    "        return\n",
    "    \n",
    "    print(root.value, end=\" \")\n",
    "\n",
    "    if root.left:\n",
    "        printPreorderTraversal(root.left)\n",
    "    \n",
    "    if root.right:\n",
    "        printPreorderTraversal(root.right)\n",
    "\n",
    "printPreorderTraversal(myTree) # Answer : 1 2 4 5 3 6 7 8 9"
   ]
  },
  {
   "cell_type": "markdown",
   "metadata": {},
   "source": [
    "2. In-order traversal (left-root-right)\n",
    "    - Left subtree is traversed first.\n",
    "    - Then root for that subtree is traversed.\n",
    "    - Then right subtree."
   ]
  },
  {
   "cell_type": "code",
   "execution_count": 6,
   "metadata": {},
   "outputs": [
    {
     "name": "stdout",
     "output_type": "stream",
     "text": [
      "4 2 5 1 6 3 8 7 9 "
     ]
    }
   ],
   "source": [
    "# Left -> Root -> Right\n",
    "def printInorderTraversal(root):\n",
    "    if root is None:\n",
    "        print(\"No root present here.\")\n",
    "        return\n",
    "    \n",
    "    if root.left:\n",
    "        printInorderTraversal(root.left)\n",
    "\n",
    "    print(root.value, end=\" \")\n",
    "\n",
    "    if root.right:\n",
    "        printInorderTraversal(root.right)\n",
    "\n",
    "printInorderTraversal(myTree) # Answer : 4 2 5 1 6 3 8 7 9"
   ]
  },
  {
   "cell_type": "markdown",
   "metadata": {},
   "source": [
    "3. Post-order traversal (left-right-root)\n",
    "    - Left subtree is traversed first.\n",
    "    - Then right subtree is traversed.\n",
    "    - Then root subtree."
   ]
  },
  {
   "cell_type": "code",
   "execution_count": 8,
   "metadata": {},
   "outputs": [
    {
     "name": "stdout",
     "output_type": "stream",
     "text": [
      "4 5 2 6 8 9 7 3 1 "
     ]
    }
   ],
   "source": [
    "# Left -> Right -> Root\n",
    "def printPostorderTraversal(root):\n",
    "    if root is None:\n",
    "        return\n",
    "    \n",
    "    printPostorderTraversal(root.left)\n",
    "\n",
    "    printPostorderTraversal(root.right)\n",
    "\n",
    "    print(root.value, end=\" \")\n",
    "\n",
    "printPostorderTraversal(myTree) # Answer : 4 5 2 6 8 9 7 3 1"
   ]
  },
  {
   "cell_type": "markdown",
   "metadata": {},
   "source": [
    "##### BREADTH FIRST SEARCH (BFS)\n",
    "1) Level-order traversal\n",
    "    - Traverses a tree such that all nodes present in the same level are traversed completely before traversing the next level."
   ]
  },
  {
   "cell_type": "code",
   "execution_count": 9,
   "metadata": {},
   "outputs": [
    {
     "name": "stdout",
     "output_type": "stream",
     "text": [
      "1 2 3 4 5 6 7 8 9 "
     ]
    }
   ],
   "source": [
    "def printLevelorderTraversal(root):\n",
    "    if root is None:\n",
    "        print(\"No root present here.\")\n",
    "        return\n",
    "    \n",
    "    queue = [root]\n",
    "\n",
    "    while len(queue):\n",
    "        current = queue.pop(0)\n",
    "        print(current.value, end=\" \")\n",
    "\n",
    "        if current.left:\n",
    "            queue.append(current.left)\n",
    "        \n",
    "        if current.right:\n",
    "            queue.append(current.right)\n",
    "\n",
    "printLevelorderTraversal(myTree) # Answer : 1 2 3 4 5 6 7 8 9"
   ]
  }
 ],
 "metadata": {
  "kernelspec": {
   "display_name": "base",
   "language": "python",
   "name": "python3"
  },
  "language_info": {
   "codemirror_mode": {
    "name": "ipython",
    "version": 3
   },
   "file_extension": ".py",
   "mimetype": "text/x-python",
   "name": "python",
   "nbconvert_exporter": "python",
   "pygments_lexer": "ipython3",
   "version": "3.11.7"
  }
 },
 "nbformat": 4,
 "nbformat_minor": 2
}
