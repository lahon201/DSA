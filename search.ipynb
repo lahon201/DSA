{
 "cells": [
  {
   "cell_type": "markdown",
   "metadata": {},
   "source": [
    "# SEARCHING ALGORITHMS\n",
    "### (1) LINEAR SEARCH\n",
    "- Time complexity : O(n)\n",
    "- Auxiliary space : O(1)"
   ]
  },
  {
   "cell_type": "code",
   "execution_count": 14,
   "metadata": {},
   "outputs": [],
   "source": [
    "def linearSearch(list, key):\n",
    "    for item in list:\n",
    "        if item == key:\n",
    "            return list.index(item)\n",
    "    return -1"
   ]
  },
  {
   "cell_type": "code",
   "execution_count": 15,
   "metadata": {},
   "outputs": [
    {
     "data": {
      "text/plain": [
       "2"
      ]
     },
     "execution_count": 15,
     "metadata": {},
     "output_type": "execute_result"
    }
   ],
   "source": [
    "linearSearch([1, 10, 3, 5, 77], 3)"
   ]
  },
  {
   "cell_type": "markdown",
   "metadata": {},
   "source": [
    "### (2) BINARY SEARCH\n",
    "- Requires a sorted list\n",
    "- Time complexity : O(logn)\n",
    "- Auxiliary space : O(1)\n",
    "\n",
    "(i) Iterative approach"
   ]
  },
  {
   "cell_type": "code",
   "execution_count": 16,
   "metadata": {},
   "outputs": [],
   "source": [
    "def binarySearch(list, key):\n",
    "    left = 0\n",
    "    right = len(list) - 1\n",
    "\n",
    "    while left <= right:\n",
    "        mid = left + (right - left)//2\n",
    "\n",
    "        if list[mid] == key:\n",
    "            return mid\n",
    "        elif list[mid] < key:\n",
    "            left = mid + 1\n",
    "        else:\n",
    "            right = mid - 1\n",
    "    \n",
    "    return -1"
   ]
  },
  {
   "cell_type": "code",
   "execution_count": 21,
   "metadata": {},
   "outputs": [
    {
     "data": {
      "text/plain": [
       "3"
      ]
     },
     "execution_count": 21,
     "metadata": {},
     "output_type": "execute_result"
    }
   ],
   "source": [
    "binarySearch([4, 11, 23, 54, 65, 77, 90, 322], 54)"
   ]
  },
  {
   "cell_type": "markdown",
   "metadata": {},
   "source": [
    "(ii) Recursive approach"
   ]
  },
  {
   "cell_type": "code",
   "execution_count": 37,
   "metadata": {},
   "outputs": [],
   "source": [
    "def binarySearchR(arr, key, left=0, right=None):\n",
    "    if right == None:\n",
    "        right = len(arr) - 1\n",
    "\n",
    "    if left > right:\n",
    "        return -1\n",
    "        \n",
    "    mid = left + (right - left)//2\n",
    "\n",
    "    if arr[mid] == key:\n",
    "        return mid\n",
    "    elif arr[mid] < key:\n",
    "        return binarySearchR(arr, key, left=mid+1, right=right)\n",
    "    else:\n",
    "        return binarySearchR(arr, key, left=left, right=mid-1)"
   ]
  },
  {
   "cell_type": "code",
   "execution_count": 46,
   "metadata": {},
   "outputs": [
    {
     "data": {
      "text/plain": [
       "3"
      ]
     },
     "execution_count": 46,
     "metadata": {},
     "output_type": "execute_result"
    }
   ],
   "source": [
    "binarySearchR([4, 11, 23, 54, 65, 77, 90, 322], 54)"
   ]
  }
 ],
 "metadata": {
  "kernelspec": {
   "display_name": "base",
   "language": "python",
   "name": "python3"
  },
  "language_info": {
   "codemirror_mode": {
    "name": "ipython",
    "version": 3
   },
   "file_extension": ".py",
   "mimetype": "text/x-python",
   "name": "python",
   "nbconvert_exporter": "python",
   "pygments_lexer": "ipython3",
   "version": "3.11.7"
  }
 },
 "nbformat": 4,
 "nbformat_minor": 2
}
