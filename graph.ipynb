{
 "cells": [
  {
   "cell_type": "markdown",
   "metadata": {},
   "source": [
    "# GRAPH DATA STRUCTURE\n",
    "- Collection of **nodes**/**vertices** connected by **edges**.\n",
    "- A graph, **G** := (**V**, **E**), where\n",
    "    - **V** = set of vertices\n",
    "    - **E** = set of edges\n",
    "    - An edge := (**u**, **v**) ∈ **V** \n",
    "#### Terms in graph theory:\n",
    "- Neighbours -> Vertices **u** and **v** are neighbours if an edge connects them.\n",
    "- Degree -> No. of edges connected to a vertex.\n",
    "- Path -> Sequence of vertices connected by edges.\n",
    "- Path length -> No. of edges in the path.\n",
    "- Cycle -> Path that starts and ends at same vertex.\n",
    "- Connectivity :\n",
    "    - 2 vertices are connected if a path exists between them.\n",
    "    - A graph is called connected when all vertices are connected.\n",
    "    - Connected component -> Subset of vertices, **V<sub>i</sub>** ⊆ **V**, that is connected.\n",
    "#### Types of graph:\n",
    "1) Undirected graph\n",
    "2) Directed graph\n",
    "3) Weighted graph\n",
    "4) Tree\n",
    "#### Ways of representing graphs:\n",
    "1) Adjacency List\n",
    "2) Adjacency Matrix\n",
    "3) Incidence Matrix\n",
    "#### Ways of graph traversal:\n",
    "1) Depth First Search (DFS)\n",
    "    - Preorder traversal\n",
    "    - Postorder traversal\n",
    "2) Breadth First Search (BFS)\n",
    "\n",
    "### Representation of undirected graph (using adjacency list):"
   ]
  },
  {
   "cell_type": "code",
   "execution_count": 13,
   "metadata": {},
   "outputs": [],
   "source": [
    "class UndirectedGraph:\n",
    "    def __init__(self):\n",
    "        self.graph = {}\n",
    "\n",
    "    def addVertex(self, vertex):\n",
    "        if vertex not in self.graph:\n",
    "            self.graph[vertex] = []\n",
    "\n",
    "    def addEdge(self, vertex1, vertex2):\n",
    "        if vertex1 in self.graph and vertex2 in self.graph:\n",
    "            self.graph[vertex1].append(vertex2)\n",
    "            self.graph[vertex2].append(vertex1)\n",
    "\n",
    "    def dfs(self, startVertex, postOrder = False):\n",
    "        visited = set()\n",
    "        self.dfsUtil(startVertex, visited, postOrder)\n",
    "        print()\n",
    "\n",
    "    def bfs(self, start):\n",
    "        pass\n",
    "\n",
    "    def dfsUtil(self, vertex, visited, postOrder):\n",
    "        visited.add(vertex)\n",
    "\n",
    "        if postOrder == False:\n",
    "            print(vertex, end=\" \")\n",
    "\n",
    "        for neighbour in self.graph[vertex]:\n",
    "            if neighbour not in visited:\n",
    "                self.dfsUtil(neighbour, visited, postOrder)\n",
    "        \n",
    "        if postOrder:\n",
    "            print(vertex, end=\" \")\n",
    "\n",
    "    def bfs(self, startVertex):\n",
    "        visited = set()\n",
    "        queue = [startVertex]\n",
    "        visited.add(startVertex)\n",
    "\n",
    "        while queue:\n",
    "            vertex = queue.pop(0)\n",
    "            print(vertex, end=\" \")\n",
    "\n",
    "            for neighbour in self.graph[vertex]:\n",
    "                if neighbour not in visited:\n",
    "                    queue.append(neighbour)\n",
    "                    visited.add(neighbour)\n",
    "\n",
    "    def display(self):\n",
    "        for vertex in self.graph:\n",
    "            print(f\"{vertex} -> {self.graph[vertex]}\")"
   ]
  },
  {
   "cell_type": "code",
   "execution_count": 14,
   "metadata": {},
   "outputs": [
    {
     "name": "stdout",
     "output_type": "stream",
     "text": [
      "0 -> [1, 2]\n",
      "1 -> [0, 2, 3, 4]\n",
      "2 -> [0, 1]\n",
      "3 -> [1, 5]\n",
      "4 -> [1]\n",
      "5 -> [3, 6, 8, 7]\n",
      "6 -> [5]\n",
      "7 -> [5, 8]\n",
      "8 -> [5, 7, 9]\n",
      "9 -> [8]\n"
     ]
    }
   ],
   "source": [
    "myGraph = UndirectedGraph()\n",
    "\n",
    "myGraph.addVertex(0)\n",
    "myGraph.addVertex(1)\n",
    "myGraph.addVertex(2)\n",
    "myGraph.addVertex(3)\n",
    "myGraph.addVertex(4)\n",
    "myGraph.addVertex(5)\n",
    "myGraph.addVertex(6)\n",
    "myGraph.addVertex(7)\n",
    "myGraph.addVertex(8)\n",
    "myGraph.addVertex(9)\n",
    "\n",
    "myGraph.addEdge(0, 1)\n",
    "myGraph.addEdge(0, 2)\n",
    "myGraph.addEdge(1, 2)\n",
    "myGraph.addEdge(1, 3)\n",
    "myGraph.addEdge(1, 4)\n",
    "myGraph.addEdge(3, 5)\n",
    "myGraph.addEdge(5, 6)\n",
    "myGraph.addEdge(5, 8)\n",
    "myGraph.addEdge(5, 7)\n",
    "myGraph.addEdge(8, 7)\n",
    "myGraph.addEdge(8, 9)\n",
    "\n",
    "myGraph.display()"
   ]
  },
  {
   "cell_type": "code",
   "execution_count": 15,
   "metadata": {},
   "outputs": [
    {
     "name": "stdout",
     "output_type": "stream",
     "text": [
      "Pre-order DFS: 0 1 2 3 5 6 8 7 9 4 \n",
      "Post-order DFS: 2 6 7 9 8 5 3 4 1 0 \n"
     ]
    }
   ],
   "source": [
    "print(\"Pre-order DFS: \", end=\"\")\n",
    "myGraph.dfs(0)\n",
    "\n",
    "print(\"Post-order DFS: \", end=\"\")\n",
    "myGraph.dfs(0, postOrder=True)"
   ]
  },
  {
   "cell_type": "code",
   "execution_count": 16,
   "metadata": {},
   "outputs": [
    {
     "name": "stdout",
     "output_type": "stream",
     "text": [
      "BFS: 0 1 2 3 4 5 6 8 7 9 "
     ]
    }
   ],
   "source": [
    "print(\"BFS: \", end=\"\")\n",
    "myGraph.bfs(0)"
   ]
  },
  {
   "cell_type": "markdown",
   "metadata": {},
   "source": [
    "### DIJKSTRA's ALGORITHM for finding shortest path from one vertex to every other vertex (undirected, weighted graph)"
   ]
  },
  {
   "cell_type": "code",
   "execution_count": 2,
   "metadata": {},
   "outputs": [],
   "source": [
    "class UndirectedWeightedGraph:\n",
    "    def __init__(self):\n",
    "        self.graph = {}\n",
    "\n",
    "    def addVertex(self, vertex):\n",
    "        if vertex not in self.graph:\n",
    "            self.graph[vertex] = []\n",
    "\n",
    "    def addEdge(self, vertex1, vertex2, weight):\n",
    "        if vertex1 in self.graph and vertex2 in self.graph:\n",
    "            self.graph[vertex1].append((vertex2, weight))\n",
    "            self.graph[vertex2].append((vertex1, weight))\n",
    "\n",
    "    def dijkstra(self, start):\n",
    "        # Initialize distances with infinity and set the distance to the start vertex to zero\n",
    "        distances = {vertex: float('infinity') for vertex in self.graph}\n",
    "        distances[start] = 0\n",
    "\n",
    "        # List to keep track of vertices to be processed\n",
    "        vertices = list(self.graph.keys())\n",
    "\n",
    "        while vertices:\n",
    "            # Select the vertex with the smallest distance\n",
    "            current_vertex = min(vertices, key=lambda vertex: distances[vertex])\n",
    "            vertices.remove(current_vertex)\n",
    "\n",
    "            # If the smallest distance is infinity, break the loop (remaining vertices are inaccessible)\n",
    "            if distances[current_vertex] == float('infinity'):\n",
    "                break\n",
    "\n",
    "            # Update the distances to the neighboring vertices\n",
    "            for neighbor, weight in self.graph[current_vertex]:\n",
    "                distance = distances[current_vertex] + weight\n",
    "                if distance < distances[neighbor]:\n",
    "                    distances[neighbor] = distance\n",
    "\n",
    "        return distances\n",
    "    \n",
    "    def display(self):\n",
    "        for vertex in self.graph:\n",
    "            print(f\"{vertex} -> {self.graph[vertex]}\")"
   ]
  },
  {
   "cell_type": "code",
   "execution_count": 5,
   "metadata": {},
   "outputs": [
    {
     "name": "stdout",
     "output_type": "stream",
     "text": [
      "a -> [('b', 3), ('c', 2)]\n",
      "b -> [('a', 3), ('c', 2), ('d', 2), ('e', 3), ('f', 5)]\n",
      "c -> [('a', 2), ('b', 2), ('e', 1)]\n",
      "d -> [('b', 2), ('f', 1)]\n",
      "e -> [('b', 3), ('c', 1), ('f', 2)]\n",
      "f -> [('b', 5), ('d', 1), ('e', 2)]\n"
     ]
    },
    {
     "data": {
      "text/plain": [
       "{'a': 0, 'b': 3, 'c': 2, 'd': 5, 'e': 3, 'f': 5}"
      ]
     },
     "execution_count": 5,
     "metadata": {},
     "output_type": "execute_result"
    }
   ],
   "source": [
    "myWeightedGraph = UndirectedWeightedGraph()\n",
    "\n",
    "myWeightedGraph.addVertex('a')\n",
    "myWeightedGraph.addVertex('b')\n",
    "myWeightedGraph.addVertex('c')\n",
    "myWeightedGraph.addVertex('d')\n",
    "myWeightedGraph.addVertex('e')\n",
    "myWeightedGraph.addVertex('f')\n",
    "\n",
    "myWeightedGraph.addEdge('a', 'b', 3)\n",
    "myWeightedGraph.addEdge('a', 'c', 2)\n",
    "myWeightedGraph.addEdge('b', 'c', 2)\n",
    "myWeightedGraph.addEdge('b', 'd', 2)\n",
    "myWeightedGraph.addEdge('b', 'e', 3)\n",
    "myWeightedGraph.addEdge('b', 'f', 5)\n",
    "myWeightedGraph.addEdge('c', 'e', 1)\n",
    "myWeightedGraph.addEdge('d', 'f', 1)\n",
    "myWeightedGraph.addEdge('e', 'f', 2)\n",
    "\n",
    "myWeightedGraph.display()\n",
    "\n",
    "myWeightedGraph.dijkstra('a')"
   ]
  }
 ],
 "metadata": {
  "kernelspec": {
   "display_name": "base",
   "language": "python",
   "name": "python3"
  },
  "language_info": {
   "codemirror_mode": {
    "name": "ipython",
    "version": 3
   },
   "file_extension": ".py",
   "mimetype": "text/x-python",
   "name": "python",
   "nbconvert_exporter": "python",
   "pygments_lexer": "ipython3",
   "version": "3.11.7"
  }
 },
 "nbformat": 4,
 "nbformat_minor": 2
}
