{
 "cells": [
  {
   "cell_type": "markdown",
   "metadata": {},
   "source": [
    "# Linear Data Structures\n",
    "\n",
    "### Array\n",
    "- Collection of items of the same variable type that are stored at contiguous memory locations."
   ]
  },
  {
   "cell_type": "code",
   "execution_count": 4,
   "metadata": {},
   "outputs": [
    {
     "name": "stdout",
     "output_type": "stream",
     "text": [
      "1 2 3 4 "
     ]
    }
   ],
   "source": [
    "import array\n",
    "\n",
    "arr = array.array('i', [1, 2, 3, 4])\n",
    "\n",
    "for i in arr:\n",
    "    print(i, end=\" \")"
   ]
  },
  {
   "cell_type": "markdown",
   "metadata": {},
   "source": [
    "### Linked list\n",
    "- Linear data structure that consists of a series of nodes connected by pointers.\n",
    "- Each node contains data and a reference to the next node in the list."
   ]
  },
  {
   "cell_type": "code",
   "execution_count": 25,
   "metadata": {},
   "outputs": [
    {
     "name": "stdout",
     "output_type": "stream",
     "text": [
      "[0] -> [1] -> [2] -> [3] -> [4] -> None\n",
      "[2]\n",
      "[0] -> [1] -> [2] -> [3] -> None\n"
     ]
    }
   ],
   "source": [
    "class ListNode:\n",
    "    def __init__(self, data):\n",
    "        self.data = data\n",
    "        self.next = None\n",
    "\n",
    "class LinkedList:\n",
    "    def __init__(self):\n",
    "        self.head = None\n",
    "\n",
    "    def isEmpty(self):\n",
    "        return self.head is None\n",
    "    \n",
    "    def add(self, data):\n",
    "        new_node = ListNode(data)\n",
    "        if self.head is None:\n",
    "            self.head = new_node\n",
    "            return\n",
    "        current = self.head\n",
    "        while current.next:\n",
    "            current = current.next\n",
    "        current.next = new_node\n",
    "    \n",
    "    def pop(self):\n",
    "        if self.head is None:\n",
    "            return\n",
    "        current = self.head\n",
    "        while current.next and current.next.next:\n",
    "            current = current.next\n",
    "        current.next = None\n",
    "    \n",
    "    def printElements(self):\n",
    "        current = self.head\n",
    "        while current:\n",
    "            print(f\"[{current.data}] ->\", end=\" \")\n",
    "            current = current.next\n",
    "        print(\"None\")\n",
    "    \n",
    "    def retriveElement(self, position):\n",
    "        current = self.head\n",
    "        try:\n",
    "            for i in range(position):\n",
    "                current = current.next\n",
    "            # return current.data\n",
    "            print(f\"[{current.data}]\")\n",
    "        except AttributeError:\n",
    "            print(\"IndexError: List index out of range.\")\n",
    "\n",
    "\n",
    "my_list = LinkedList()\n",
    "\n",
    "for i in range(5):\n",
    "    my_list.add(i)\n",
    "\n",
    "my_list.printElements()\n",
    "my_list.retriveElement(2)\n",
    "my_list.pop()\n",
    "my_list.printElements()"
   ]
  },
  {
   "cell_type": "markdown",
   "metadata": {},
   "source": [
    "### Stack\n",
    "- Linear data structure that follows a particular order (LIFO or FILO) of performing operations.\n",
    "- LIFO -> element that is inserted last, comes out first.\n",
    "- FILO -> element that is inserted first, comes out last."
   ]
  },
  {
   "cell_type": "code",
   "execution_count": 3,
   "metadata": {},
   "outputs": [
    {
     "name": "stdout",
     "output_type": "stream",
     "text": [
      "Bottom -> [ 0 1 2 3 4 ] <- Top\n",
      "2\n",
      "Bottom -> [ 0 1 2 3 ] <- Top\n"
     ]
    }
   ],
   "source": [
    "class Stack:\n",
    "    def __init__(self):\n",
    "        self.stack = []\n",
    "\n",
    "    def add(self, data):\n",
    "        self.stack.append(data)\n",
    "    \n",
    "    def remove(self):\n",
    "        self.stack.pop()\n",
    "    \n",
    "    def printElements(self):\n",
    "        print(\"Bottom -> [ \", end=\"\")\n",
    "        for item in self.stack:\n",
    "            print(item, end=\" \")\n",
    "        print(\"] <- Top\")\n",
    "    \n",
    "    def retriveElement(self, position):\n",
    "        try:\n",
    "            # return self.stack[position]\n",
    "            print(self.stack[position])\n",
    "        except IndexError:\n",
    "            print(\"IndexError: Stack index out of range.\")\n",
    "\n",
    "my_stack = Stack()\n",
    "\n",
    "for i in range(5):\n",
    "    my_stack.add(i)\n",
    "\n",
    "my_stack.printElements()\n",
    "my_stack.retriveElement(2)\n",
    "my_stack.remove()\n",
    "my_stack.printElements()"
   ]
  },
  {
   "cell_type": "markdown",
   "metadata": {},
   "source": [
    "### Queue\n",
    "- Linear data structure that stores items in a First In First Out (FIFO) manner."
   ]
  },
  {
   "cell_type": "code",
   "execution_count": 5,
   "metadata": {},
   "outputs": [
    {
     "name": "stdout",
     "output_type": "stream",
     "text": [
      "Back -> [ 4 3 2 1 0 ] <- Front\n",
      "Back -> [ 7 4 3 2 1 0 ] <- Front\n",
      "Back -> [ 7 4 3 2 1 ] <- Front\n"
     ]
    }
   ],
   "source": [
    "class Queue:\n",
    "    def __init__(self):\n",
    "        self.queue = []\n",
    "    \n",
    "    def add(self, data):\n",
    "        self.queue.insert(0, data)\n",
    "    \n",
    "    def dequeue(self):\n",
    "        self.queue.pop()\n",
    "\n",
    "    def printElements(self):\n",
    "        print(\"Back -> [ \", end=\"\")\n",
    "        for item in self.queue:\n",
    "            print(item, end=\" \")\n",
    "        print(\"] <- Front\")\n",
    "    \n",
    "    def retriveElement(self, position):\n",
    "        try:\n",
    "            # return self.stack[position]\n",
    "            print(self.queue[position])\n",
    "        except IndexError:\n",
    "            print(\"IndexError: Stack index out of range.\")\n",
    "\n",
    "my_queue = Queue()\n",
    "\n",
    "for i in range(5):\n",
    "    my_queue.add(i)\n",
    "\n",
    "my_queue.printElements()\n",
    "my_queue.add(7)\n",
    "my_queue.printElements()\n",
    "my_queue.dequeue()\n",
    "my_queue.printElements()"
   ]
  },
  {
   "cell_type": "markdown",
   "metadata": {},
   "source": [
    "#### Queue - Linked List implementation"
   ]
  },
  {
   "cell_type": "code",
   "execution_count": 2,
   "metadata": {},
   "outputs": [
    {
     "name": "stdout",
     "output_type": "stream",
     "text": [
      "[0] -> [1] -> [2] -> [3] -> [4] -> None\n",
      "[1] -> [2] -> [3] -> [4] -> None\n",
      "[1] -> [2] -> [3] -> [4] -> [5] -> None\n"
     ]
    }
   ],
   "source": [
    "class QNode:\n",
    "\tdef __init__(self, data):\n",
    "\t\tself.data = data\n",
    "\t\tself.next = None\n",
    "\n",
    "class QueueLL:\n",
    "\n",
    "\tdef __init__(self):\n",
    "\t\tself.front = self.rear = None\n",
    "\n",
    "\tdef isEmpty(self):\n",
    "\t\treturn self.front == None\n",
    "\t\n",
    "\tdef EnQueue(self, item):\n",
    "\t\ttemp = QNode(item)\n",
    "\n",
    "\t\tif self.rear == None:\n",
    "\t\t\tself.front = self.rear = temp\n",
    "\t\t\treturn\n",
    "\t\tself.rear.next = temp\n",
    "\t\tself.rear = temp\n",
    "\n",
    "\tdef DeQueue(self):\n",
    "\n",
    "\t\tif self.isEmpty():\n",
    "\t\t\treturn\n",
    "\t\ttemp = self.front\n",
    "\t\tself.front = temp.next\n",
    "\n",
    "\t\tif(self.front == None):\n",
    "\t\t\tself.rear = None\n",
    "\n",
    "\tdef printElements(self):\n",
    "\t\tcurrent = self.front\n",
    "\t\twhile current:\n",
    "\t\t\tprint(f\"[{current.data}] ->\", end=\" \")\n",
    "\t\t\tcurrent = current.next\n",
    "\t\tprint(\"None\")\n",
    "\n",
    "\n",
    "my_queue2 = QueueLL()\n",
    "\n",
    "for i in range(5):\n",
    "    my_queue2.EnQueue(i)\n",
    "\n",
    "my_queue2.printElements()\n",
    "my_queue2.DeQueue()\n",
    "my_queue2.printElements()\n",
    "my_queue2.EnQueue(5)\n",
    "my_queue2.printElements()"
   ]
  }
 ],
 "metadata": {
  "kernelspec": {
   "display_name": "Python 3",
   "language": "python",
   "name": "python3"
  },
  "language_info": {
   "codemirror_mode": {
    "name": "ipython",
    "version": 3
   },
   "file_extension": ".py",
   "mimetype": "text/x-python",
   "name": "python",
   "nbconvert_exporter": "python",
   "pygments_lexer": "ipython3",
   "version": "3.11.7"
  }
 },
 "nbformat": 4,
 "nbformat_minor": 2
}
