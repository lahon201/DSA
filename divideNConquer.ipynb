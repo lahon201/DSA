{
 "cells": [
  {
   "cell_type": "markdown",
   "metadata": {},
   "source": [
    "# DIVIDE AND CONQUER (SORTING ALGORITHMS)\n",
    "### (1) MERGE SORT\n",
    "- Time complexity : O(nlogn)\n",
    "- Stable"
   ]
  },
  {
   "cell_type": "code",
   "execution_count": 1,
   "metadata": {},
   "outputs": [],
   "source": [
    "def merge_sort(array):\n",
    "    if len(array) > 1:\n",
    "        middle = len(array) // 2  # divide array length in half and use the \"//\" operator to *floor* the result\n",
    "\n",
    "        left_array = array[:middle]  # fill in left array\n",
    "        right_array = array[middle:]  # fill in right array\n",
    "\n",
    "        merge_sort(left_array)  # Sorting the first half\n",
    "        merge_sort(right_array)  # Sorting the second half\n",
    "\n",
    "        left_index = 0\n",
    "        right_index = 0\n",
    "        current_index = 0\n",
    "\n",
    "        # compare each index of the subarrays adding the lowest value to the current_index\n",
    "        while left_index < len(left_array) and right_index < len(right_array):\n",
    "            if left_array[left_index] < right_array[right_index]:\n",
    "                array[current_index] = left_array[left_index]\n",
    "                left_index += 1\n",
    "            else:\n",
    "                array[current_index] = right_array[right_index]\n",
    "                right_index += 1\n",
    "            current_index += 1\n",
    "\n",
    "        # copy remaining elements of left_array[] if any\n",
    "        while left_index < len(left_array):\n",
    "            array[current_index] = left_array[left_index]\n",
    "            left_index += 1\n",
    "            current_index += 1\n",
    "\n",
    "        # copy remaining elements of right_array[] if any\n",
    "        while right_index < len(right_array):\n",
    "            array[current_index] = right_array[right_index]\n",
    "            right_index += 1\n",
    "            current_index += 1"
   ]
  },
  {
   "cell_type": "code",
   "execution_count": 2,
   "metadata": {},
   "outputs": [
    {
     "data": {
      "text/plain": [
       "[1, 2, 3, 4, 5, 6, 7, 8, 9, 10, 11, 12, 13, 14, 15]"
      ]
     },
     "execution_count": 2,
     "metadata": {},
     "output_type": "execute_result"
    }
   ],
   "source": [
    "my_arr = [12, 11, 15, 10, 9, 1, 2, 3, 13, 14, 4, 5, 6, 7, 8]\n",
    "merge_sort(my_arr)\n",
    "my_arr"
   ]
  },
  {
   "cell_type": "markdown",
   "metadata": {},
   "source": [
    "### (2) QUICK SORT\n",
    "- Time complexity : O(n^2)\n",
    "- Unstable"
   ]
  },
  {
   "cell_type": "code",
   "execution_count": 3,
   "metadata": {},
   "outputs": [],
   "source": [
    "def quickSort(array, startIndex, endIndex):\n",
    "    # verify that the start and end index have not overlapped\n",
    "    if (startIndex < endIndex):\n",
    "        # calculate the pivotIndex\n",
    "        pivotIndex = partition(array, startIndex, endIndex)\n",
    "        # sort the left sub-array\n",
    "        quickSort(array, startIndex, pivotIndex)\n",
    "        # sort the right sub-array\n",
    "        quickSort(array, pivotIndex + 1, endIndex)\n",
    "\n",
    "def partition(array, startIndex, endIndex):\n",
    "    pivotIndex = (startIndex + endIndex) / 2\n",
    "    pivotValue = array[int(pivotIndex)]\n",
    "\n",
    "    while (True):\n",
    "\n",
    "        # start at the FIRST index of the sub-array and increment\n",
    "        # FORWARD until we find a value that is > pivotValue\n",
    "        while (array[startIndex] < pivotValue): startIndex += 1\n",
    "\n",
    "        # start at the LAST index of the sub-array and increment\n",
    "        # BACKWARD until we find a value that is < pivotValue\n",
    "        while (array[endIndex] > pivotValue): endIndex -= 1\n",
    "\n",
    "        if (startIndex >= endIndex): return endIndex\n",
    "\n",
    "        # swap values at the startIndex and endIndex\n",
    "        temp = array[startIndex]\n",
    "        array[startIndex] = array[endIndex]\n",
    "        array[endIndex] = temp"
   ]
  },
  {
   "cell_type": "code",
   "execution_count": 6,
   "metadata": {},
   "outputs": [
    {
     "data": {
      "text/plain": [
       "[1, 2, 3, 4, 5, 6, 7, 8, 9, 10, 11, 12, 13, 14, 15]"
      ]
     },
     "execution_count": 6,
     "metadata": {},
     "output_type": "execute_result"
    }
   ],
   "source": [
    "my_arr = [12, 11, 15, 10, 9, 1, 2, 3, 13, 14, 4, 5, 6, 7, 8]\n",
    "quickSort(my_arr, 0, len(my_arr)-1)\n",
    "my_arr"
   ]
  }
 ],
 "metadata": {
  "kernelspec": {
   "display_name": "base",
   "language": "python",
   "name": "python3"
  },
  "language_info": {
   "codemirror_mode": {
    "name": "ipython",
    "version": 3
   },
   "file_extension": ".py",
   "mimetype": "text/x-python",
   "name": "python",
   "nbconvert_exporter": "python",
   "pygments_lexer": "ipython3",
   "version": "3.11.7"
  }
 },
 "nbformat": 4,
 "nbformat_minor": 2
}
